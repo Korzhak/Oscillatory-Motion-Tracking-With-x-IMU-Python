{
 "cells": [
  {
   "cell_type": "code",
   "execution_count": 34,
   "metadata": {
    "ExecuteTime": {
     "end_time": "2023-11-06T12:19:57.754730Z",
     "start_time": "2023-11-06T12:19:57.734851Z"
    }
   },
   "outputs": [],
   "source": [
    "import pandas as pd\n",
    "import numpy as np\n",
    "import matplotlib\n",
    "import Mahony.MahonyAHRS as MAHRS\n",
    "from ximu_python_library import xIMUdataClass as xIMU"
   ]
  },
  {
   "cell_type": "code",
   "execution_count": 35,
   "outputs": [],
   "source": [
    "recorded_data = pd.read_csv(\"logged_data/LoggedData_CalInertialAndMag.csv\")"
   ],
   "metadata": {
    "collapsed": false,
    "ExecuteTime": {
     "end_time": "2023-11-06T12:19:57.775587Z",
     "start_time": "2023-11-06T12:19:57.745546Z"
    }
   }
  },
  {
   "cell_type": "code",
   "execution_count": 45,
   "outputs": [
    {
     "data": {
      "text/plain": "       packetNumb    gyrX    gyrY    gyrZ      accX      accY      accZ  \\\n0               0 -0.1250 -0.0625  0.1250 -0.028809  0.016602  1.017090   \n1               2 -0.1250 -0.2500  0.0000  0.002441 -0.002441  0.973633   \n2               4 -0.0625 -0.1875  0.0000  0.006348  0.016602  0.989258   \n3               6  0.1250  0.0000  0.0000 -0.040527  0.032227  1.013184   \n4               8 -0.1250 -0.1250  0.0000 -0.017090 -0.002441  0.997070   \n...           ...     ...     ...     ...       ...       ...       ...   \n11612       24223 -0.0625 -0.1250 -0.0625  0.018066  0.016602  0.997070   \n11613       24225  0.0000  0.0000  0.0000  0.021973  0.004883  0.989258   \n11614       24227 -0.0625 -0.1250  0.0625 -0.008789 -0.018066  0.973633   \n11615       24229 -0.1250 -0.1250  0.0625 -0.032715  0.000977  1.017090   \n11616       24231  0.0000 -0.1250  0.0625 -0.017090  0.028320  0.981445   \n\n           magX      magY      magZ  \n0      15.99951  15.99951  15.11475  \n1      15.99951  15.99951  15.09375  \n2      15.99951  15.99951  15.09375  \n3      15.99951  15.99951  15.09375  \n4      15.99951  15.99951  15.12012  \n...         ...       ...       ...  \n11612  15.99951  15.99951  15.33057  \n11613  15.99951  15.99951  15.33057  \n11614  15.99951  15.99951  15.33057  \n11615  15.99951  15.99951  15.33594  \n11616  15.99951  15.99951  15.33594  \n\n[11617 rows x 10 columns]",
      "text/html": "<div>\n<style scoped>\n    .dataframe tbody tr th:only-of-type {\n        vertical-align: middle;\n    }\n\n    .dataframe tbody tr th {\n        vertical-align: top;\n    }\n\n    .dataframe thead th {\n        text-align: right;\n    }\n</style>\n<table border=\"1\" class=\"dataframe\">\n  <thead>\n    <tr style=\"text-align: right;\">\n      <th></th>\n      <th>packetNumb</th>\n      <th>gyrX</th>\n      <th>gyrY</th>\n      <th>gyrZ</th>\n      <th>accX</th>\n      <th>accY</th>\n      <th>accZ</th>\n      <th>magX</th>\n      <th>magY</th>\n      <th>magZ</th>\n    </tr>\n  </thead>\n  <tbody>\n    <tr>\n      <th>0</th>\n      <td>0</td>\n      <td>-0.1250</td>\n      <td>-0.0625</td>\n      <td>0.1250</td>\n      <td>-0.028809</td>\n      <td>0.016602</td>\n      <td>1.017090</td>\n      <td>15.99951</td>\n      <td>15.99951</td>\n      <td>15.11475</td>\n    </tr>\n    <tr>\n      <th>1</th>\n      <td>2</td>\n      <td>-0.1250</td>\n      <td>-0.2500</td>\n      <td>0.0000</td>\n      <td>0.002441</td>\n      <td>-0.002441</td>\n      <td>0.973633</td>\n      <td>15.99951</td>\n      <td>15.99951</td>\n      <td>15.09375</td>\n    </tr>\n    <tr>\n      <th>2</th>\n      <td>4</td>\n      <td>-0.0625</td>\n      <td>-0.1875</td>\n      <td>0.0000</td>\n      <td>0.006348</td>\n      <td>0.016602</td>\n      <td>0.989258</td>\n      <td>15.99951</td>\n      <td>15.99951</td>\n      <td>15.09375</td>\n    </tr>\n    <tr>\n      <th>3</th>\n      <td>6</td>\n      <td>0.1250</td>\n      <td>0.0000</td>\n      <td>0.0000</td>\n      <td>-0.040527</td>\n      <td>0.032227</td>\n      <td>1.013184</td>\n      <td>15.99951</td>\n      <td>15.99951</td>\n      <td>15.09375</td>\n    </tr>\n    <tr>\n      <th>4</th>\n      <td>8</td>\n      <td>-0.1250</td>\n      <td>-0.1250</td>\n      <td>0.0000</td>\n      <td>-0.017090</td>\n      <td>-0.002441</td>\n      <td>0.997070</td>\n      <td>15.99951</td>\n      <td>15.99951</td>\n      <td>15.12012</td>\n    </tr>\n    <tr>\n      <th>...</th>\n      <td>...</td>\n      <td>...</td>\n      <td>...</td>\n      <td>...</td>\n      <td>...</td>\n      <td>...</td>\n      <td>...</td>\n      <td>...</td>\n      <td>...</td>\n      <td>...</td>\n    </tr>\n    <tr>\n      <th>11612</th>\n      <td>24223</td>\n      <td>-0.0625</td>\n      <td>-0.1250</td>\n      <td>-0.0625</td>\n      <td>0.018066</td>\n      <td>0.016602</td>\n      <td>0.997070</td>\n      <td>15.99951</td>\n      <td>15.99951</td>\n      <td>15.33057</td>\n    </tr>\n    <tr>\n      <th>11613</th>\n      <td>24225</td>\n      <td>0.0000</td>\n      <td>0.0000</td>\n      <td>0.0000</td>\n      <td>0.021973</td>\n      <td>0.004883</td>\n      <td>0.989258</td>\n      <td>15.99951</td>\n      <td>15.99951</td>\n      <td>15.33057</td>\n    </tr>\n    <tr>\n      <th>11614</th>\n      <td>24227</td>\n      <td>-0.0625</td>\n      <td>-0.1250</td>\n      <td>0.0625</td>\n      <td>-0.008789</td>\n      <td>-0.018066</td>\n      <td>0.973633</td>\n      <td>15.99951</td>\n      <td>15.99951</td>\n      <td>15.33057</td>\n    </tr>\n    <tr>\n      <th>11615</th>\n      <td>24229</td>\n      <td>-0.1250</td>\n      <td>-0.1250</td>\n      <td>0.0625</td>\n      <td>-0.032715</td>\n      <td>0.000977</td>\n      <td>1.017090</td>\n      <td>15.99951</td>\n      <td>15.99951</td>\n      <td>15.33594</td>\n    </tr>\n    <tr>\n      <th>11616</th>\n      <td>24231</td>\n      <td>0.0000</td>\n      <td>-0.1250</td>\n      <td>0.0625</td>\n      <td>-0.017090</td>\n      <td>0.028320</td>\n      <td>0.981445</td>\n      <td>15.99951</td>\n      <td>15.99951</td>\n      <td>15.33594</td>\n    </tr>\n  </tbody>\n</table>\n<p>11617 rows × 10 columns</p>\n</div>"
     },
     "execution_count": 45,
     "metadata": {},
     "output_type": "execute_result"
    }
   ],
   "source": [
    "recorded_data"
   ],
   "metadata": {
    "collapsed": false,
    "ExecuteTime": {
     "end_time": "2023-11-06T12:25:34.021725Z",
     "start_time": "2023-11-06T12:25:33.999047Z"
    }
   }
  },
  {
   "cell_type": "code",
   "execution_count": 44,
   "outputs": [
    {
     "data": {
      "text/plain": "       packetNumb      gyrX      gyrY      gyrZ      accX      accY      accZ  \\\n0               0 -0.002182 -0.001091  0.002182 -0.028809  0.016602  1.017090   \n1               2 -0.002182 -0.004363  0.000000  0.002441 -0.002441  0.973633   \n2               4 -0.001091 -0.003272  0.000000  0.006348  0.016602  0.989258   \n3               6  0.002182  0.000000  0.000000 -0.040527  0.032227  1.013184   \n4               8 -0.002182 -0.002182  0.000000 -0.017090 -0.002441  0.997070   \n...           ...       ...       ...       ...       ...       ...       ...   \n11612       24223 -0.001091 -0.002182 -0.001091  0.018066  0.016602  0.997070   \n11613       24225  0.000000  0.000000  0.000000  0.021973  0.004883  0.989258   \n11614       24227 -0.001091 -0.002182  0.001091 -0.008789 -0.018066  0.973633   \n11615       24229 -0.002182 -0.002182  0.001091 -0.032715  0.000977  1.017090   \n11616       24231  0.000000 -0.002182  0.001091 -0.017090  0.028320  0.981445   \n\n           magX      magY      magZ  \n0      15.99951  15.99951  15.11475  \n1      15.99951  15.99951  15.09375  \n2      15.99951  15.99951  15.09375  \n3      15.99951  15.99951  15.09375  \n4      15.99951  15.99951  15.12012  \n...         ...       ...       ...  \n11612  15.99951  15.99951  15.33057  \n11613  15.99951  15.99951  15.33057  \n11614  15.99951  15.99951  15.33057  \n11615  15.99951  15.99951  15.33594  \n11616  15.99951  15.99951  15.33594  \n\n[11617 rows x 10 columns]",
      "text/html": "<div>\n<style scoped>\n    .dataframe tbody tr th:only-of-type {\n        vertical-align: middle;\n    }\n\n    .dataframe tbody tr th {\n        vertical-align: top;\n    }\n\n    .dataframe thead th {\n        text-align: right;\n    }\n</style>\n<table border=\"1\" class=\"dataframe\">\n  <thead>\n    <tr style=\"text-align: right;\">\n      <th></th>\n      <th>packetNumb</th>\n      <th>gyrX</th>\n      <th>gyrY</th>\n      <th>gyrZ</th>\n      <th>accX</th>\n      <th>accY</th>\n      <th>accZ</th>\n      <th>magX</th>\n      <th>magY</th>\n      <th>magZ</th>\n    </tr>\n  </thead>\n  <tbody>\n    <tr>\n      <th>0</th>\n      <td>0</td>\n      <td>-0.002182</td>\n      <td>-0.001091</td>\n      <td>0.002182</td>\n      <td>-0.028809</td>\n      <td>0.016602</td>\n      <td>1.017090</td>\n      <td>15.99951</td>\n      <td>15.99951</td>\n      <td>15.11475</td>\n    </tr>\n    <tr>\n      <th>1</th>\n      <td>2</td>\n      <td>-0.002182</td>\n      <td>-0.004363</td>\n      <td>0.000000</td>\n      <td>0.002441</td>\n      <td>-0.002441</td>\n      <td>0.973633</td>\n      <td>15.99951</td>\n      <td>15.99951</td>\n      <td>15.09375</td>\n    </tr>\n    <tr>\n      <th>2</th>\n      <td>4</td>\n      <td>-0.001091</td>\n      <td>-0.003272</td>\n      <td>0.000000</td>\n      <td>0.006348</td>\n      <td>0.016602</td>\n      <td>0.989258</td>\n      <td>15.99951</td>\n      <td>15.99951</td>\n      <td>15.09375</td>\n    </tr>\n    <tr>\n      <th>3</th>\n      <td>6</td>\n      <td>0.002182</td>\n      <td>0.000000</td>\n      <td>0.000000</td>\n      <td>-0.040527</td>\n      <td>0.032227</td>\n      <td>1.013184</td>\n      <td>15.99951</td>\n      <td>15.99951</td>\n      <td>15.09375</td>\n    </tr>\n    <tr>\n      <th>4</th>\n      <td>8</td>\n      <td>-0.002182</td>\n      <td>-0.002182</td>\n      <td>0.000000</td>\n      <td>-0.017090</td>\n      <td>-0.002441</td>\n      <td>0.997070</td>\n      <td>15.99951</td>\n      <td>15.99951</td>\n      <td>15.12012</td>\n    </tr>\n    <tr>\n      <th>...</th>\n      <td>...</td>\n      <td>...</td>\n      <td>...</td>\n      <td>...</td>\n      <td>...</td>\n      <td>...</td>\n      <td>...</td>\n      <td>...</td>\n      <td>...</td>\n      <td>...</td>\n    </tr>\n    <tr>\n      <th>11612</th>\n      <td>24223</td>\n      <td>-0.001091</td>\n      <td>-0.002182</td>\n      <td>-0.001091</td>\n      <td>0.018066</td>\n      <td>0.016602</td>\n      <td>0.997070</td>\n      <td>15.99951</td>\n      <td>15.99951</td>\n      <td>15.33057</td>\n    </tr>\n    <tr>\n      <th>11613</th>\n      <td>24225</td>\n      <td>0.000000</td>\n      <td>0.000000</td>\n      <td>0.000000</td>\n      <td>0.021973</td>\n      <td>0.004883</td>\n      <td>0.989258</td>\n      <td>15.99951</td>\n      <td>15.99951</td>\n      <td>15.33057</td>\n    </tr>\n    <tr>\n      <th>11614</th>\n      <td>24227</td>\n      <td>-0.001091</td>\n      <td>-0.002182</td>\n      <td>0.001091</td>\n      <td>-0.008789</td>\n      <td>-0.018066</td>\n      <td>0.973633</td>\n      <td>15.99951</td>\n      <td>15.99951</td>\n      <td>15.33057</td>\n    </tr>\n    <tr>\n      <th>11615</th>\n      <td>24229</td>\n      <td>-0.002182</td>\n      <td>-0.002182</td>\n      <td>0.001091</td>\n      <td>-0.032715</td>\n      <td>0.000977</td>\n      <td>1.017090</td>\n      <td>15.99951</td>\n      <td>15.99951</td>\n      <td>15.33594</td>\n    </tr>\n    <tr>\n      <th>11616</th>\n      <td>24231</td>\n      <td>0.000000</td>\n      <td>-0.002182</td>\n      <td>0.001091</td>\n      <td>-0.017090</td>\n      <td>0.028320</td>\n      <td>0.981445</td>\n      <td>15.99951</td>\n      <td>15.99951</td>\n      <td>15.33594</td>\n    </tr>\n  </tbody>\n</table>\n<p>11617 rows × 10 columns</p>\n</div>"
     },
     "execution_count": 44,
     "metadata": {},
     "output_type": "execute_result"
    }
   ],
   "source": [
    "data = recorded_data.copy()\n",
    "data.loc[:, \"gyrX\":\"gyrZ\"] *= (np.pi/180)\n",
    "data"
   ],
   "metadata": {
    "collapsed": false,
    "ExecuteTime": {
     "end_time": "2023-11-06T12:25:28.041495Z",
     "start_time": "2023-11-06T12:25:27.989994Z"
    }
   }
  },
  {
   "cell_type": "code",
   "execution_count": null,
   "outputs": [],
   "source": [
    "sample_frequency = 256\n",
    "sample_period = 1 / sample_frequency"
   ],
   "metadata": {
    "collapsed": false,
    "ExecuteTime": {
     "start_time": "2023-11-06T12:19:57.908140Z"
    }
   }
  },
  {
   "cell_type": "code",
   "execution_count": null,
   "outputs": [],
   "source": [
    "ahrs = MAHRS.Mahony(sample_frequency, 0, 0)"
   ],
   "metadata": {
    "collapsed": false,
    "ExecuteTime": {
     "start_time": "2023-11-06T12:19:57.913962Z"
    }
   }
  },
  {
   "cell_type": "code",
   "execution_count": 46,
   "outputs": [],
   "source": [
    "gyr = data.loc[:, \"gyrX\":\"gyrZ\"]"
   ],
   "metadata": {
    "collapsed": false,
    "ExecuteTime": {
     "end_time": "2023-11-06T12:25:47.455796Z",
     "start_time": "2023-11-06T12:25:47.445606Z"
    }
   }
  },
  {
   "cell_type": "code",
   "execution_count": 47,
   "outputs": [
    {
     "data": {
      "text/plain": "           gyrX      gyrY      gyrZ\n0     -0.002182 -0.001091  0.002182\n1     -0.002182 -0.004363  0.000000\n2     -0.001091 -0.003272  0.000000\n3      0.002182  0.000000  0.000000\n4     -0.002182 -0.002182  0.000000\n...         ...       ...       ...\n11612 -0.001091 -0.002182 -0.001091\n11613  0.000000  0.000000  0.000000\n11614 -0.001091 -0.002182  0.001091\n11615 -0.002182 -0.002182  0.001091\n11616  0.000000 -0.002182  0.001091\n\n[11617 rows x 3 columns]",
      "text/html": "<div>\n<style scoped>\n    .dataframe tbody tr th:only-of-type {\n        vertical-align: middle;\n    }\n\n    .dataframe tbody tr th {\n        vertical-align: top;\n    }\n\n    .dataframe thead th {\n        text-align: right;\n    }\n</style>\n<table border=\"1\" class=\"dataframe\">\n  <thead>\n    <tr style=\"text-align: right;\">\n      <th></th>\n      <th>gyrX</th>\n      <th>gyrY</th>\n      <th>gyrZ</th>\n    </tr>\n  </thead>\n  <tbody>\n    <tr>\n      <th>0</th>\n      <td>-0.002182</td>\n      <td>-0.001091</td>\n      <td>0.002182</td>\n    </tr>\n    <tr>\n      <th>1</th>\n      <td>-0.002182</td>\n      <td>-0.004363</td>\n      <td>0.000000</td>\n    </tr>\n    <tr>\n      <th>2</th>\n      <td>-0.001091</td>\n      <td>-0.003272</td>\n      <td>0.000000</td>\n    </tr>\n    <tr>\n      <th>3</th>\n      <td>0.002182</td>\n      <td>0.000000</td>\n      <td>0.000000</td>\n    </tr>\n    <tr>\n      <th>4</th>\n      <td>-0.002182</td>\n      <td>-0.002182</td>\n      <td>0.000000</td>\n    </tr>\n    <tr>\n      <th>...</th>\n      <td>...</td>\n      <td>...</td>\n      <td>...</td>\n    </tr>\n    <tr>\n      <th>11612</th>\n      <td>-0.001091</td>\n      <td>-0.002182</td>\n      <td>-0.001091</td>\n    </tr>\n    <tr>\n      <th>11613</th>\n      <td>0.000000</td>\n      <td>0.000000</td>\n      <td>0.000000</td>\n    </tr>\n    <tr>\n      <th>11614</th>\n      <td>-0.001091</td>\n      <td>-0.002182</td>\n      <td>0.001091</td>\n    </tr>\n    <tr>\n      <th>11615</th>\n      <td>-0.002182</td>\n      <td>-0.002182</td>\n      <td>0.001091</td>\n    </tr>\n    <tr>\n      <th>11616</th>\n      <td>0.000000</td>\n      <td>-0.002182</td>\n      <td>0.001091</td>\n    </tr>\n  </tbody>\n</table>\n<p>11617 rows × 3 columns</p>\n</div>"
     },
     "execution_count": 47,
     "metadata": {},
     "output_type": "execute_result"
    }
   ],
   "source": [
    "gyr"
   ],
   "metadata": {
    "collapsed": false,
    "ExecuteTime": {
     "end_time": "2023-11-06T12:29:12.766558Z",
     "start_time": "2023-11-06T12:29:12.735925Z"
    }
   }
  },
  {
   "cell_type": "code",
   "execution_count": 48,
   "outputs": [
    {
     "name": "stdout",
     "output_type": "stream",
     "text": [
      "gyrX\n",
      "gyrY\n",
      "gyrZ\n"
     ]
    }
   ],
   "source": [
    "for i in gyr:\n",
    "    print(i)"
   ],
   "metadata": {
    "collapsed": false,
    "ExecuteTime": {
     "end_time": "2023-11-06T12:29:23.915736Z",
     "start_time": "2023-11-06T12:29:23.887337Z"
    }
   }
  },
  {
   "cell_type": "code",
   "execution_count": null,
   "outputs": [],
   "source": [],
   "metadata": {
    "collapsed": false
   }
  }
 ],
 "metadata": {
  "kernelspec": {
   "display_name": "Python 3",
   "language": "python",
   "name": "python3"
  },
  "language_info": {
   "codemirror_mode": {
    "name": "ipython",
    "version": 3
   },
   "file_extension": ".py",
   "mimetype": "text/x-python",
   "name": "python",
   "nbconvert_exporter": "python",
   "pygments_lexer": "ipython3",
   "version": "3.9.15"
  }
 },
 "nbformat": 4,
 "nbformat_minor": 4
}
